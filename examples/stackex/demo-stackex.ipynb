{
 "cells": [
  {
   "cell_type": "code",
   "execution_count": 1,
   "id": "3a3a9690-ed7b-47f2-b1f7-38099acfa2f8",
   "metadata": {},
   "outputs": [],
   "source": [
    "from relbench.datasets import dataset_names, get_dataset"
   ]
  },
  {
   "cell_type": "code",
   "execution_count": 2,
   "id": "cadaa335-890b-4cb5-a26f-80ca1be79373",
   "metadata": {},
   "outputs": [
    {
     "data": {
      "text/plain": [
       "['rel-amazon', 'rel-stackex', 'rel-fake']"
      ]
     },
     "execution_count": 2,
     "metadata": {},
     "output_type": "execute_result"
    }
   ],
   "source": [
    "dataset_names"
   ]
  },
  {
   "cell_type": "code",
   "execution_count": 2,
   "id": "fff4b53a-c57b-4b3c-a501-aba49df242e1",
   "metadata": {},
   "outputs": [
    {
     "name": "stdout",
     "output_type": "stream",
     "text": [
      "making Database object from raw files...\n",
      "done in 43.73 seconds.\n",
      "reindexing pkeys and fkeys...\n",
      "done in 7.87 seconds.\n"
     ]
    },
    {
     "data": {
      "text/plain": [
       "StackExDataset()"
      ]
     },
     "execution_count": 2,
     "metadata": {},
     "output_type": "execute_result"
    }
   ],
   "source": [
    "dataset = get_dataset(name=\"rel-stackex\", process=True)\n",
    "dataset"
   ]
  },
  {
   "cell_type": "code",
   "execution_count": 4,
   "id": "536d0ef8-c6b9-485b-b161-e8fef56b5e4a",
   "metadata": {},
   "outputs": [
    {
     "data": {
      "text/plain": [
       "dict_keys(['badges', 'comments', 'postHistory', 'postLinks', 'posts', 'users', 'votes'])"
      ]
     },
     "execution_count": 4,
     "metadata": {},
     "output_type": "execute_result"
    }
   ],
   "source": [
    "dataset.db.table_dict.keys()"
   ]
  },
  {
   "cell_type": "code",
   "execution_count": 35,
   "id": "5eab4b9e-8f6a-4af1-91ba-fc6436fa3985",
   "metadata": {},
   "outputs": [
    {
     "data": {
      "text/plain": [
       "Index(['Id', 'AccountId', 'DisplayName', 'Location', 'ProfileImageUrl',\n",
       "       'WebsiteUrl', 'AboutMe', 'CreationDate'],\n",
       "      dtype='object')"
      ]
     },
     "execution_count": 35,
     "metadata": {},
     "output_type": "execute_result"
    }
   ],
   "source": [
    "dataset.db.table_dict[\"users\"].df.columns\n"
   ]
  },
  {
   "cell_type": "code",
   "execution_count": 36,
   "id": "e9f4280e",
   "metadata": {},
   "outputs": [
    {
     "data": {
      "text/plain": [
       "Index(['Id', 'UserId', 'PostId', 'VoteTypeId', 'CreationDate'], dtype='object')"
      ]
     },
     "execution_count": 36,
     "metadata": {},
     "output_type": "execute_result"
    }
   ],
   "source": [
    "dataset.db.table_dict[\"votes\"].df.columns"
   ]
  },
  {
   "cell_type": "code",
   "execution_count": 37,
   "id": "964c590f",
   "metadata": {},
   "outputs": [
    {
     "data": {
      "text/plain": [
       "Index(['Id', 'OwnerUserId', 'LastEditorUserId', 'PostTypeId',\n",
       "       'AcceptedAnswerId', 'ParentId', 'OwnerDisplayName',\n",
       "       'LastEditorDisplayName', 'Title', 'Tags', 'ContentLicense', 'Body',\n",
       "       'CreationDate'],\n",
       "      dtype='object')"
      ]
     },
     "execution_count": 37,
     "metadata": {},
     "output_type": "execute_result"
    }
   ],
   "source": [
    "dataset.db.table_dict[\"posts\"].df.columns"
   ]
  },
  {
   "cell_type": "code",
   "execution_count": 39,
   "id": "8b6fe802",
   "metadata": {},
   "outputs": [
    {
     "data": {
      "text/plain": [
       "255360"
      ]
     },
     "execution_count": 39,
     "metadata": {},
     "output_type": "execute_result"
    }
   ],
   "source": [
    "len(dataset.db.table_dict[\"users\"].df)"
   ]
  },
  {
   "cell_type": "code",
   "execution_count": 7,
   "id": "e000941e-72d7-467e-92b3-df3999dd72a0",
   "metadata": {},
   "outputs": [
    {
     "data": {
      "text/plain": [
       "['rel-stackex-engage', 'rel-stackex-votes']"
      ]
     },
     "execution_count": 7,
     "metadata": {},
     "output_type": "execute_result"
    }
   ],
   "source": [
    "dataset.task_names"
   ]
  },
  {
   "cell_type": "code",
   "execution_count": 17,
   "id": "be517d68-feb3-4657-947b-f2c38ef7e997",
   "metadata": {},
   "outputs": [],
   "source": [
    "task = dataset.get_task(\"rel-stackex-votes\")"
   ]
  },
  {
   "cell_type": "code",
   "execution_count": 18,
   "id": "774f34e4-31d7-48ca-a41a-ea5ec7061c8f",
   "metadata": {},
   "outputs": [
    {
     "data": {
      "text/plain": [
       "Table(df=\n",
       "        PostId  timestamp  popularity\n",
       "0       152675 2018-07-05           0\n",
       "1       152676 2018-07-05           0\n",
       "2       152677 2018-07-05           0\n",
       "3       152679 2018-07-05           0\n",
       "4       152681 2018-07-05           0\n",
       "...        ...        ...         ...\n",
       "389884   14465 2010-08-16           0\n",
       "389885   14602 2010-08-16           1\n",
       "389886   14602 2010-02-17           0\n",
       "389887   14602 2009-08-21           0\n",
       "389888   14602 2009-02-22           0\n",
       "\n",
       "[389889 rows x 3 columns],\n",
       "  fkey_col_to_pkey_table={'PostId': 'posts'},\n",
       "  pkey_col=None,\n",
       "  time_col=timestamp)"
      ]
     },
     "execution_count": 18,
     "metadata": {},
     "output_type": "execute_result"
    }
   ],
   "source": [
    "task.train_table"
   ]
  },
  {
   "cell_type": "code",
   "execution_count": 30,
   "id": "caf65814",
   "metadata": {},
   "outputs": [
    {
     "data": {
      "text/plain": [
       "Index(['PostId', 'timestamp', 'popularity'], dtype='object')"
      ]
     },
     "execution_count": 30,
     "metadata": {},
     "output_type": "execute_result"
    }
   ],
   "source": [
    "task.train_table.df.columns"
   ]
  },
  {
   "cell_type": "code",
   "execution_count": 27,
   "id": "95970074-1eeb-4e90-8f8f-e44127780fb1",
   "metadata": {},
   "outputs": [
    {
     "data": {
      "text/plain": [
       "389889"
      ]
     },
     "execution_count": 27,
     "metadata": {},
     "output_type": "execute_result"
    }
   ],
   "source": [
    "len(task.train_table.df)"
   ]
  },
  {
   "cell_type": "code",
   "execution_count": 31,
   "id": "bae1d062",
   "metadata": {},
   "outputs": [
    {
     "data": {
      "text/plain": [
       "Index(['PostId', 'timestamp', 'popularity'], dtype='object')"
      ]
     },
     "execution_count": 31,
     "metadata": {},
     "output_type": "execute_result"
    }
   ],
   "source": [
    "task.val_table.df.columns"
   ]
  },
  {
   "cell_type": "code",
   "execution_count": 26,
   "id": "b9a5d559-02ec-4c4e-b0a7-c040db468fae",
   "metadata": {},
   "outputs": [
    {
     "data": {
      "text/plain": [
       "40725"
      ]
     },
     "execution_count": 26,
     "metadata": {},
     "output_type": "execute_result"
    }
   ],
   "source": [
    "len(task.val_table.df)"
   ]
  },
  {
   "cell_type": "code",
   "execution_count": 34,
   "id": "220c020d",
   "metadata": {},
   "outputs": [
    {
     "data": {
      "text/plain": [
       "Index(['timestamp', 'PostId'], dtype='object')"
      ]
     },
     "execution_count": 34,
     "metadata": {},
     "output_type": "execute_result"
    }
   ],
   "source": [
    "task.test_table.df.columns"
   ]
  },
  {
   "cell_type": "code",
   "execution_count": 28,
   "id": "b70aed07-0900-44c9-a364-0c70511731a9",
   "metadata": {},
   "outputs": [
    {
     "data": {
      "text/plain": [
       "40063"
      ]
     },
     "execution_count": 28,
     "metadata": {},
     "output_type": "execute_result"
    }
   ],
   "source": [
    "len(task.test_table.df)"
   ]
  },
  {
   "cell_type": "markdown",
   "id": "0fa2a907",
   "metadata": {},
   "source": [
    "Making the graph"
   ]
  },
  {
   "cell_type": "code",
   "execution_count": 3,
   "id": "c47d409e-869f-4b44-a1bd-06405354add1",
   "metadata": {},
   "outputs": [
    {
     "name": "stderr",
     "output_type": "stream",
     "text": [
      "C:\\Users\\admin\\AppData\\Local\\Packages\\PythonSoftwareFoundation.Python.3.12_qbz5n2kfra8p0\\LocalCache\\local-packages\\Python312\\site-packages\\tqdm\\auto.py:21: TqdmWarning: IProgress not found. Please update jupyter and ipywidgets. See https://ipywidgets.readthedocs.io/en/stable/user_install.html\n",
      "  from .autonotebook import tqdm as notebook_tqdm\n"
     ]
    }
   ],
   "source": [
    "from torch_frame.config.text_embedder import TextEmbedderConfig\n",
    "from torch_frame.testing.text_embedder import HashTextEmbedder\n",
    "\n",
    "from relbench.external.graph import get_stype_proposal, make_pkey_fkey_graph\n",
    "\n",
    "\n",
    "data, col_stats_dict = make_pkey_fkey_graph(\n",
    "    dataset.db,\n",
    "    get_stype_proposal(dataset.db),\n",
    "    text_embedder_cfg=TextEmbedderConfig(\n",
    "        text_embedder=HashTextEmbedder(8), batch_size=None\n",
    "    ),\n",
    ")"
   ]
  },
  {
   "cell_type": "code",
   "execution_count": 4,
   "id": "6a6700f5-9939-43c8-9c0a-41496a5069e1",
   "metadata": {},
   "outputs": [
    {
     "name": "stdout",
     "output_type": "stream",
     "text": [
      "HeteroData(\n",
      "  comments={\n",
      "    tf=TensorFrame([623967, 4]),\n",
      "    time=[623967],\n",
      "  },\n",
      "  badges={\n",
      "    tf=TensorFrame([463463, 4]),\n",
      "    time=[463463],\n",
      "  },\n",
      "  postLinks={\n",
      "    tf=TensorFrame([77337, 2]),\n",
      "    time=[77337],\n",
      "  },\n",
      "  postHistory={\n",
      "    tf=TensorFrame([1175368, 7]),\n",
      "    time=[1175368],\n",
      "  },\n",
      "  votes={\n",
      "    tf=TensorFrame([1317876, 2]),\n",
      "    time=[1317876],\n",
      "  },\n",
      "  users={\n",
      "    tf=TensorFrame([255360, 6]),\n",
      "    time=[255360],\n",
      "  },\n",
      "  posts={\n",
      "    tf=TensorFrame([333893, 7]),\n",
      "    time=[333893],\n",
      "  },\n",
      "  (comments, f2p_UserId, users)={ edge_index=[2, 612288] },\n",
      "  (users, p2f_UserId, comments)={ edge_index=[2, 612288] },\n",
      "  (comments, f2p_PostId, posts)={ edge_index=[2, 623962] },\n",
      "  (posts, p2f_PostId, comments)={ edge_index=[2, 623962] },\n",
      "  (badges, f2p_UserId, users)={ edge_index=[2, 463463] },\n",
      "  (users, p2f_UserId, badges)={ edge_index=[2, 463463] },\n",
      "  (postLinks, f2p_PostId, posts)={ edge_index=[2, 61171] },\n",
      "  (posts, p2f_PostId, postLinks)={ edge_index=[2, 61171] },\n",
      "  (postLinks, f2p_RelatedPostId, posts)={ edge_index=[2, 75588] },\n",
      "  (posts, p2f_RelatedPostId, postLinks)={ edge_index=[2, 75588] },\n",
      "  (postHistory, f2p_PostId, posts)={ edge_index=[2, 1175368] },\n",
      "  (posts, p2f_PostId, postHistory)={ edge_index=[2, 1175368] },\n",
      "  (postHistory, f2p_UserId, users)={ edge_index=[2, 1100031] },\n",
      "  (users, p2f_UserId, postHistory)={ edge_index=[2, 1100031] },\n",
      "  (votes, f2p_PostId, posts)={ edge_index=[2, 1199831] },\n",
      "  (posts, p2f_PostId, votes)={ edge_index=[2, 1199831] },\n",
      "  (votes, f2p_UserId, users)={ edge_index=[2, 5182] },\n",
      "  (users, p2f_UserId, votes)={ edge_index=[2, 5182] },\n",
      "  (posts, f2p_OwnerUserId, users)={ edge_index=[2, 328648] },\n",
      "  (users, p2f_OwnerUserId, posts)={ edge_index=[2, 328648] },\n",
      "  (posts, f2p_ParentId, posts)={ edge_index=[2, 167355] },\n",
      "  (posts, p2f_ParentId, posts)={ edge_index=[2, 167355] },\n",
      "  (posts, f2p_AcceptedAnswerId, posts)={ edge_index=[2, 57714] },\n",
      "  (posts, p2f_AcceptedAnswerId, posts)={ edge_index=[2, 57714] }\n",
      ")\n"
     ]
    }
   ],
   "source": [
    "print(data)"
   ]
  },
  {
   "cell_type": "code",
   "execution_count": 8,
   "id": "f6298047",
   "metadata": {},
   "outputs": [
    {
     "data": {
      "text/plain": [
       "{'tf': TensorFrame(\n",
       "  num_cols=2,\n",
       "  num_rows=1317876,\n",
       "  categorical (1): ['VoteTypeId'],\n",
       "  timestamp (1): ['CreationDate'],\n",
       "  has_target=False,\n",
       "  device='cpu',\n",
       "), 'time': tensor([1233532800, 1233532800, 1233532800,  ..., 1609459200, 1609459200,\n",
       "        1609459200])}"
      ]
     },
     "execution_count": 8,
     "metadata": {},
     "output_type": "execute_result"
    }
   ],
   "source": [
    "data[\"votes\"]\n"
   ]
  },
  {
   "cell_type": "code",
   "execution_count": 10,
   "id": "174e25ad",
   "metadata": {},
   "outputs": [
    {
     "data": {
      "text/plain": [
       "dict_keys(['comments', 'badges', 'postLinks', 'postHistory', 'votes', 'users', 'posts'])"
      ]
     },
     "execution_count": 10,
     "metadata": {},
     "output_type": "execute_result"
    }
   ],
   "source": [
    "col_stats_dict.keys()"
   ]
  },
  {
   "cell_type": "code",
   "execution_count": 12,
   "id": "70d2b3bb",
   "metadata": {},
   "outputs": [
    {
     "data": {
      "text/plain": [
       "{'LinkTypeId': {<StatType.COUNT: 'COUNT'>: ([1, 3], [66588, 10749])},\n",
       " 'CreationDate': {<StatType.YEAR_RANGE: 'YEAR_RANGE'>: [2010, 2020],\n",
       "  <StatType.NEWEST_TIME: 'NEWEST_TIME'>: tensor([2020,   11,   30,    3,   21,   25,   24]),\n",
       "  <StatType.OLDEST_TIME: 'OLDEST_TIME'>: tensor([2010,    6,   20,    2,   14,   47,   33]),\n",
       "  <StatType.MEDIAN_TIME: 'MEDIAN_TIME'>: tensor([2017,    5,    7,    3,    0,   59,   25])}}"
      ]
     },
     "execution_count": 12,
     "metadata": {},
     "output_type": "execute_result"
    }
   ],
   "source": [
    "col_stats_dict[\"postLinks\"]"
   ]
  },
  {
   "cell_type": "markdown",
   "id": "7a37eae8",
   "metadata": {},
   "source": [
    "Create model"
   ]
  },
  {
   "cell_type": "code",
   "execution_count": null,
   "id": "0a799e28",
   "metadata": {},
   "outputs": [],
   "source": [
    "from relbench.external.nn import HeteroEncoder, HeteroGraphSAGE, HeteroTemporalEncoder\n",
    "from torch_geometric.nn import MLP\n",
    "\n",
    "node_to_col_names_dict = {  \n",
    "    node_type: data[node_type].tf.col_names_dict for node_type in data.node_types\n",
    "}"
   ]
  },
  {
   "cell_type": "code",
   "execution_count": null,
   "id": "c981a159",
   "metadata": {},
   "outputs": [],
   "source": [
    "encoder = HeteroEncoder(64, node_to_col_names_dict, col_stats_dict)\n",
    "temporal_encoder =  HeteroTemporalEncoder(\n",
    "            node_types=[\n",
    "                node_type for node_type in data.node_types if \"time\" in data[node_type]\n",
    "            ],\n",
    "            channels=64,\n",
    "        )\n",
    "gnn = HeteroGraphSAGE(data.node_types, data.edge_types, 64)\n",
    "head = MLP(64, out_channels=1, num_layers=1)"
   ]
  },
  {
   "cell_type": "markdown",
   "id": "1f98847a",
   "metadata": {},
   "source": [
    "Old demo tutorial:"
   ]
  },
  {
   "cell_type": "code",
   "execution_count": 41,
   "id": "13ea2e50-1b31-4930-9f68-a82a9134ee26",
   "metadata": {},
   "outputs": [
    {
     "name": "stderr",
     "output_type": "stream",
     "text": [
      "C:\\Users\\admin\\AppData\\Local\\Packages\\PythonSoftwareFoundation.Python.3.12_qbz5n2kfra8p0\\LocalCache\\local-packages\\Python312\\site-packages\\sklearn\\metrics\\_regression.py:483: FutureWarning: 'squared' is deprecated in version 1.4 and will be removed in 1.6. To calculate the root mean squared error, use the function'root_mean_squared_error'.\n",
      "  warnings.warn(\n"
     ]
    },
    {
     "data": {
      "text/plain": [
       "{'mae': 0.09447619998502359, 'rmse': 0.4515018605279}"
      ]
     },
     "execution_count": 41,
     "metadata": {},
     "output_type": "execute_result"
    }
   ],
   "source": [
    "import numpy as np\n",
    "\n",
    "pred = np.array([0] * len(task.test_table.df))\n",
    "task.evaluate(pred)"
   ]
  }
 ],
 "metadata": {
  "kernelspec": {
   "display_name": "Python 3 (ipykernel)",
   "language": "python",
   "name": "python3"
  },
  "language_info": {
   "codemirror_mode": {
    "name": "ipython",
    "version": 3
   },
   "file_extension": ".py",
   "mimetype": "text/x-python",
   "name": "python",
   "nbconvert_exporter": "python",
   "pygments_lexer": "ipython3",
   "version": "3.12.2"
  }
 },
 "nbformat": 4,
 "nbformat_minor": 5
}
